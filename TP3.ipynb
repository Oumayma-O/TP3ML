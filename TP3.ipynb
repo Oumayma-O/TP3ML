{
  "nbformat": 4,
  "nbformat_minor": 0,
  "metadata": {
    "colab": {
      "provenance": [],
      "include_colab_link": true
    },
    "kernelspec": {
      "name": "python3",
      "display_name": "Python 3"
    },
    "language_info": {
      "name": "python"
    }
  },
  "cells": [
    {
      "cell_type": "markdown",
      "metadata": {
        "id": "view-in-github",
        "colab_type": "text"
      },
      "source": [
        "<a href=\"https://colab.research.google.com/github/Oumayma-O/TP3ML/blob/main/TP3.ipynb\" target=\"_parent\"><img src=\"https://colab.research.google.com/assets/colab-badge.svg\" alt=\"Open In Colab\"/></a>"
      ]
    },
    {
      "cell_type": "markdown",
      "source": [
        "## First step is to load and display the dataset :"
      ],
      "metadata": {
        "id": "r8QRj6wDw7sv"
      }
    },
    {
      "cell_type": "code",
      "source": [
        "from sklearn import datasets\n",
        "\n",
        "# Load the Iris dataset\n",
        "irisData = datasets.load_iris()\n",
        "\n",
        "print(\"Data (attributes):\")\n",
        "print(irisData.data)\n",
        "\n",
        "print(\"\\nTarget classes:\")\n",
        "print(irisData.target)\n"
      ],
      "metadata": {
        "colab": {
          "base_uri": "https://localhost:8080/"
        },
        "id": "-Z66beEZxBtN",
        "outputId": "1df34e22-4a75-4ac7-fd2e-256230ef369d"
      },
      "execution_count": null,
      "outputs": [
        {
          "output_type": "stream",
          "name": "stdout",
          "text": [
            "Data (attributes):\n",
            "[[5.1 3.5 1.4 0.2]\n",
            " [4.9 3.  1.4 0.2]\n",
            " [4.7 3.2 1.3 0.2]\n",
            " [4.6 3.1 1.5 0.2]\n",
            " [5.  3.6 1.4 0.2]\n",
            " [5.4 3.9 1.7 0.4]\n",
            " [4.6 3.4 1.4 0.3]\n",
            " [5.  3.4 1.5 0.2]\n",
            " [4.4 2.9 1.4 0.2]\n",
            " [4.9 3.1 1.5 0.1]\n",
            " [5.4 3.7 1.5 0.2]\n",
            " [4.8 3.4 1.6 0.2]\n",
            " [4.8 3.  1.4 0.1]\n",
            " [4.3 3.  1.1 0.1]\n",
            " [5.8 4.  1.2 0.2]\n",
            " [5.7 4.4 1.5 0.4]\n",
            " [5.4 3.9 1.3 0.4]\n",
            " [5.1 3.5 1.4 0.3]\n",
            " [5.7 3.8 1.7 0.3]\n",
            " [5.1 3.8 1.5 0.3]\n",
            " [5.4 3.4 1.7 0.2]\n",
            " [5.1 3.7 1.5 0.4]\n",
            " [4.6 3.6 1.  0.2]\n",
            " [5.1 3.3 1.7 0.5]\n",
            " [4.8 3.4 1.9 0.2]\n",
            " [5.  3.  1.6 0.2]\n",
            " [5.  3.4 1.6 0.4]\n",
            " [5.2 3.5 1.5 0.2]\n",
            " [5.2 3.4 1.4 0.2]\n",
            " [4.7 3.2 1.6 0.2]\n",
            " [4.8 3.1 1.6 0.2]\n",
            " [5.4 3.4 1.5 0.4]\n",
            " [5.2 4.1 1.5 0.1]\n",
            " [5.5 4.2 1.4 0.2]\n",
            " [4.9 3.1 1.5 0.2]\n",
            " [5.  3.2 1.2 0.2]\n",
            " [5.5 3.5 1.3 0.2]\n",
            " [4.9 3.6 1.4 0.1]\n",
            " [4.4 3.  1.3 0.2]\n",
            " [5.1 3.4 1.5 0.2]\n",
            " [5.  3.5 1.3 0.3]\n",
            " [4.5 2.3 1.3 0.3]\n",
            " [4.4 3.2 1.3 0.2]\n",
            " [5.  3.5 1.6 0.6]\n",
            " [5.1 3.8 1.9 0.4]\n",
            " [4.8 3.  1.4 0.3]\n",
            " [5.1 3.8 1.6 0.2]\n",
            " [4.6 3.2 1.4 0.2]\n",
            " [5.3 3.7 1.5 0.2]\n",
            " [5.  3.3 1.4 0.2]\n",
            " [7.  3.2 4.7 1.4]\n",
            " [6.4 3.2 4.5 1.5]\n",
            " [6.9 3.1 4.9 1.5]\n",
            " [5.5 2.3 4.  1.3]\n",
            " [6.5 2.8 4.6 1.5]\n",
            " [5.7 2.8 4.5 1.3]\n",
            " [6.3 3.3 4.7 1.6]\n",
            " [4.9 2.4 3.3 1. ]\n",
            " [6.6 2.9 4.6 1.3]\n",
            " [5.2 2.7 3.9 1.4]\n",
            " [5.  2.  3.5 1. ]\n",
            " [5.9 3.  4.2 1.5]\n",
            " [6.  2.2 4.  1. ]\n",
            " [6.1 2.9 4.7 1.4]\n",
            " [5.6 2.9 3.6 1.3]\n",
            " [6.7 3.1 4.4 1.4]\n",
            " [5.6 3.  4.5 1.5]\n",
            " [5.8 2.7 4.1 1. ]\n",
            " [6.2 2.2 4.5 1.5]\n",
            " [5.6 2.5 3.9 1.1]\n",
            " [5.9 3.2 4.8 1.8]\n",
            " [6.1 2.8 4.  1.3]\n",
            " [6.3 2.5 4.9 1.5]\n",
            " [6.1 2.8 4.7 1.2]\n",
            " [6.4 2.9 4.3 1.3]\n",
            " [6.6 3.  4.4 1.4]\n",
            " [6.8 2.8 4.8 1.4]\n",
            " [6.7 3.  5.  1.7]\n",
            " [6.  2.9 4.5 1.5]\n",
            " [5.7 2.6 3.5 1. ]\n",
            " [5.5 2.4 3.8 1.1]\n",
            " [5.5 2.4 3.7 1. ]\n",
            " [5.8 2.7 3.9 1.2]\n",
            " [6.  2.7 5.1 1.6]\n",
            " [5.4 3.  4.5 1.5]\n",
            " [6.  3.4 4.5 1.6]\n",
            " [6.7 3.1 4.7 1.5]\n",
            " [6.3 2.3 4.4 1.3]\n",
            " [5.6 3.  4.1 1.3]\n",
            " [5.5 2.5 4.  1.3]\n",
            " [5.5 2.6 4.4 1.2]\n",
            " [6.1 3.  4.6 1.4]\n",
            " [5.8 2.6 4.  1.2]\n",
            " [5.  2.3 3.3 1. ]\n",
            " [5.6 2.7 4.2 1.3]\n",
            " [5.7 3.  4.2 1.2]\n",
            " [5.7 2.9 4.2 1.3]\n",
            " [6.2 2.9 4.3 1.3]\n",
            " [5.1 2.5 3.  1.1]\n",
            " [5.7 2.8 4.1 1.3]\n",
            " [6.3 3.3 6.  2.5]\n",
            " [5.8 2.7 5.1 1.9]\n",
            " [7.1 3.  5.9 2.1]\n",
            " [6.3 2.9 5.6 1.8]\n",
            " [6.5 3.  5.8 2.2]\n",
            " [7.6 3.  6.6 2.1]\n",
            " [4.9 2.5 4.5 1.7]\n",
            " [7.3 2.9 6.3 1.8]\n",
            " [6.7 2.5 5.8 1.8]\n",
            " [7.2 3.6 6.1 2.5]\n",
            " [6.5 3.2 5.1 2. ]\n",
            " [6.4 2.7 5.3 1.9]\n",
            " [6.8 3.  5.5 2.1]\n",
            " [5.7 2.5 5.  2. ]\n",
            " [5.8 2.8 5.1 2.4]\n",
            " [6.4 3.2 5.3 2.3]\n",
            " [6.5 3.  5.5 1.8]\n",
            " [7.7 3.8 6.7 2.2]\n",
            " [7.7 2.6 6.9 2.3]\n",
            " [6.  2.2 5.  1.5]\n",
            " [6.9 3.2 5.7 2.3]\n",
            " [5.6 2.8 4.9 2. ]\n",
            " [7.7 2.8 6.7 2. ]\n",
            " [6.3 2.7 4.9 1.8]\n",
            " [6.7 3.3 5.7 2.1]\n",
            " [7.2 3.2 6.  1.8]\n",
            " [6.2 2.8 4.8 1.8]\n",
            " [6.1 3.  4.9 1.8]\n",
            " [6.4 2.8 5.6 2.1]\n",
            " [7.2 3.  5.8 1.6]\n",
            " [7.4 2.8 6.1 1.9]\n",
            " [7.9 3.8 6.4 2. ]\n",
            " [6.4 2.8 5.6 2.2]\n",
            " [6.3 2.8 5.1 1.5]\n",
            " [6.1 2.6 5.6 1.4]\n",
            " [7.7 3.  6.1 2.3]\n",
            " [6.3 3.4 5.6 2.4]\n",
            " [6.4 3.1 5.5 1.8]\n",
            " [6.  3.  4.8 1.8]\n",
            " [6.9 3.1 5.4 2.1]\n",
            " [6.7 3.1 5.6 2.4]\n",
            " [6.9 3.1 5.1 2.3]\n",
            " [5.8 2.7 5.1 1.9]\n",
            " [6.8 3.2 5.9 2.3]\n",
            " [6.7 3.3 5.7 2.5]\n",
            " [6.7 3.  5.2 2.3]\n",
            " [6.3 2.5 5.  1.9]\n",
            " [6.5 3.  5.2 2. ]\n",
            " [6.2 3.4 5.4 2.3]\n",
            " [5.9 3.  5.1 1.8]]\n",
            "\n",
            "Target classes:\n",
            "[0 0 0 0 0 0 0 0 0 0 0 0 0 0 0 0 0 0 0 0 0 0 0 0 0 0 0 0 0 0 0 0 0 0 0 0 0\n",
            " 0 0 0 0 0 0 0 0 0 0 0 0 0 1 1 1 1 1 1 1 1 1 1 1 1 1 1 1 1 1 1 1 1 1 1 1 1\n",
            " 1 1 1 1 1 1 1 1 1 1 1 1 1 1 1 1 1 1 1 1 1 1 1 1 1 1 2 2 2 2 2 2 2 2 2 2 2\n",
            " 2 2 2 2 2 2 2 2 2 2 2 2 2 2 2 2 2 2 2 2 2 2 2 2 2 2 2 2 2 2 2 2 2 2 2 2 2\n",
            " 2 2]\n"
          ]
        }
      ]
    },
    {
      "cell_type": "code",
      "source": [
        "import pandas as pd\n",
        "\n",
        "\n",
        "# Create a DataFrame using the feature data (attributes) and target classes\n",
        "iris_df = pd.DataFrame(data=irisData.data, columns=irisData.feature_names)\n",
        "iris_df['target'] = irisData.target  # Add a column for target classes\n",
        "\n",
        "# Display the first few rows of the DataFrame\n",
        "print(iris_df.head())\n",
        "\n",
        "\n"
      ],
      "metadata": {
        "colab": {
          "base_uri": "https://localhost:8080/"
        },
        "id": "9Cf2QLAi9BFC",
        "outputId": "ed547303-a242-436c-e2e9-9fd5c4582fc6"
      },
      "execution_count": null,
      "outputs": [
        {
          "output_type": "stream",
          "name": "stdout",
          "text": [
            "   sepal length (cm)  sepal width (cm)  petal length (cm)  petal width (cm)  \\\n",
            "0                5.1               3.5                1.4               0.2   \n",
            "1                4.9               3.0                1.4               0.2   \n",
            "2                4.7               3.2                1.3               0.2   \n",
            "3                4.6               3.1                1.5               0.2   \n",
            "4                5.0               3.6                1.4               0.2   \n",
            "\n",
            "   target  \n",
            "0       0  \n",
            "1       0  \n",
            "2       0  \n",
            "3       0  \n",
            "4       0  \n"
          ]
        }
      ]
    },
    {
      "cell_type": "markdown",
      "source": [
        "**Répartition des données dans le tableau :**\n",
        " - Chaque ligne représente une instance (**observation**) de l'ensemble de données.\n",
        " - Chaque colonne représente un attribut  de l'instance\n",
        " -  chaque ligne de irisData.data correspond aux dimensions de longueur et de largeur des sépales et des pétales d’une fleur d’iris.\n",
        "\n",
        "**Classe cible :**\n",
        " - la classe (**étiquette**) associée à chaque instance de l'ensemble de données.\n",
        " -  La valeur de irisData.target indique à quelle espèce d'iris appartient chaque instance  (**0 est setosa, 1 est versicolor, 2 est virginica**).\n"
      ],
      "metadata": {
        "id": "EasmYjIwxaHs"
      }
    },
    {
      "cell_type": "markdown",
      "source": [
        "### les attributs et la classe du 32ème élément de l'échantillon :"
      ],
      "metadata": {
        "id": "bBqwGd7lymsF"
      }
    },
    {
      "cell_type": "code",
      "source": [
        "\n",
        "element_32 = irisData.data[31]\n",
        "class_32 = irisData.target[31]\n",
        "print(\"Attributs du 32ème élément :\")\n",
        "print(element_32)\n",
        "class_name = irisData.target_names[class_32]\n",
        "print(\"Classe du 32ème élément :\", class_name)"
      ],
      "metadata": {
        "colab": {
          "base_uri": "https://localhost:8080/"
        },
        "id": "xItlTaDryuWi",
        "outputId": "6d292133-424c-494a-8dd2-583fe7145dcf"
      },
      "execution_count": null,
      "outputs": [
        {
          "output_type": "stream",
          "name": "stdout",
          "text": [
            "Attributs du 32ème élément :\n",
            "[5.4 3.4 1.5 0.4]\n",
            "Classe du 32ème élément : setosa\n"
          ]
        }
      ]
    },
    {
      "cell_type": "markdown",
      "source": [
        "### Plus d'informations a propos le dataset :"
      ],
      "metadata": {
        "id": "H6H28YWnzAkr"
      }
    },
    {
      "cell_type": "code",
      "source": [
        "# Feature Names\n",
        "print(\"\\nFeature Names:\")\n",
        "print(irisData.feature_names)\n",
        "# Target Names\n",
        "print(\"\\nTarget Names:\")\n",
        "print(irisData.target_names)"
      ],
      "metadata": {
        "colab": {
          "base_uri": "https://localhost:8080/"
        },
        "id": "TwFy_wPDzGAB",
        "outputId": "0cf33c66-f49b-4b7a-9f41-c61f72b54ca0"
      },
      "execution_count": null,
      "outputs": [
        {
          "output_type": "stream",
          "name": "stdout",
          "text": [
            "\n",
            "Feature Names:\n",
            "['sepal length (cm)', 'sepal width (cm)', 'petal length (cm)', 'petal width (cm)']\n",
            "\n",
            "Target Names:\n",
            "['setosa' 'versicolor' 'virginica']\n"
          ]
        }
      ]
    },
    {
      "cell_type": "code",
      "source": [
        "\n",
        "import numpy as np\n",
        "\n",
        "\n",
        "target = irisData.target\n",
        "\n",
        "\n",
        "unique, counts = np.unique(target, return_counts=True)\n",
        "\n",
        "for label, count in zip(unique, counts):\n",
        "    class_name = irisData.target_names[label]\n",
        "    print(f\"Class {class_name}: {count} instances\")\n"
      ],
      "metadata": {
        "colab": {
          "base_uri": "https://localhost:8080/"
        },
        "id": "zhBH1owDzL4j",
        "outputId": "0c134bc0-9fb4-42cd-d8a1-ecc65cb8a061"
      },
      "execution_count": null,
      "outputs": [
        {
          "output_type": "stream",
          "name": "stdout",
          "text": [
            "Class setosa: 50 instances\n",
            "Class versicolor: 50 instances\n",
            "Class virginica: 50 instances\n"
          ]
        }
      ]
    },
    {
      "cell_type": "code",
      "source": [
        "print(iris_df.describe())"
      ],
      "metadata": {
        "colab": {
          "base_uri": "https://localhost:8080/"
        },
        "id": "bQH5p1GV-znd",
        "outputId": "b3ff5ddc-6a5b-4139-a4a3-aae420d1d092"
      },
      "execution_count": null,
      "outputs": [
        {
          "output_type": "stream",
          "name": "stdout",
          "text": [
            "       sepal length (cm)  sepal width (cm)  petal length (cm)  \\\n",
            "count         150.000000        150.000000         150.000000   \n",
            "mean            5.843333          3.057333           3.758000   \n",
            "std             0.828066          0.435866           1.765298   \n",
            "min             4.300000          2.000000           1.000000   \n",
            "25%             5.100000          2.800000           1.600000   \n",
            "50%             5.800000          3.000000           4.350000   \n",
            "75%             6.400000          3.300000           5.100000   \n",
            "max             7.900000          4.400000           6.900000   \n",
            "\n",
            "       petal width (cm)      target  \n",
            "count        150.000000  150.000000  \n",
            "mean           1.199333    1.000000  \n",
            "std            0.762238    0.819232  \n",
            "min            0.100000    0.000000  \n",
            "25%            0.300000    0.000000  \n",
            "50%            1.300000    1.000000  \n",
            "75%            1.800000    2.000000  \n",
            "max            2.500000    2.000000  \n"
          ]
        }
      ]
    },
    {
      "cell_type": "markdown",
      "source": [
        "## Visualisation :"
      ],
      "metadata": {
        "id": "ysn0Wsf4zSpY"
      }
    },
    {
      "cell_type": "code",
      "source": [
        "import matplotlib\n",
        "from itertools import cycle\n",
        "import pylab as pl\n",
        "\n",
        "def plot_2D(data, target, target_names):\n",
        "    colors = cycle('rgbcmykw')\n",
        "    pl.figure()\n",
        "    for i, c, label in zip(range(len(target_names)), colors, target_names):\n",
        "        pl.scatter(data[target == i, 2], data[target == i, 3], c=c, label=label)\n",
        "    pl.plot([2.5, 2.5], [0, 3])\n",
        "    pl.plot([0.75,7],[0.75,0.75],'b--')\n",
        "    pl.legend()\n",
        "    pl.show()\n",
        "\n",
        "\n",
        "plot_2D(irisData.data,irisData.target,irisData.target_names)"
      ],
      "metadata": {
        "colab": {
          "base_uri": "https://localhost:8080/",
          "height": 430
        },
        "id": "pPGhAKnE0CWy",
        "outputId": "bc88e13a-a7d1-4a5b-d85a-c56cfb1ca4b7"
      },
      "execution_count": null,
      "outputs": [
        {
          "output_type": "display_data",
          "data": {
            "text/plain": [
              "<Figure size 640x480 with 1 Axes>"
            ],
            "image/png": "[encoded data removed]"
          },
          "metadata": {}
        }
      ]
    },
    {
      "cell_type": "markdown",
      "source": [
        "- La fonction plot_2D prend trois arguments : data (les données), target (les classes correspondantes), et target_names (noms des classes).\n",
        "- Elle crée un graphique en 2D en utilisant plt.scatter pour chaque classe, en attribuant une couleur différente à chaque classe.\n",
        "- Les données sont visualisées sur un plan 2D avec les deux premiers attributs de chaque instance\n",
        "\n",
        "// les deux attributs utilisés pour le plot sont 3 et 4"
      ],
      "metadata": {
        "id": "beuEUKaq0aBx"
      }
    },
    {
      "cell_type": "code",
      "source": [
        "from sklearn import naive_bayes\n",
        "\n",
        "\n",
        "# Create a Gaussian Naive Bayes classifier\n",
        "nb = naive_bayes.MultinomialNB(fit_prior=True)\n",
        "\n",
        "# Fit the model to the data (excluding the last sample)\n",
        "nb.fit(irisData.data[:-1], irisData.target[:-1])\n",
        "\n",
        "# Make predictions for a specific sample (e.g., sample 31)\n",
        "p31 = nb.predict([irisData.data[31]])\n",
        "print(p31)\n",
        "\n",
        "# Make predictions for the last sample\n",
        "plast = nb.predict([irisData.data[-1]])\n",
        "print(plast)\n",
        "classe_reelle = irisData.target[-1]\n",
        "print(f'Classe réelle de la dernière instance : {classe_reelle}')\n",
        "\n",
        "# Imprimer la prédiction pour la dernière instance\n",
        "print(f'Prédiction pour la dernière instance : {plast}')\n",
        "\n",
        "# Make predictions for all samples\n",
        "p = nb.predict(irisData.data)\n",
        "print(p)"
      ],
      "metadata": {
        "colab": {
          "base_uri": "https://localhost:8080/"
        },
        "id": "zPwZcKip1SPh",
        "outputId": "1abea46b-5f7f-45f1-cd48-ba390362f4f3"
      },
      "execution_count": null,
      "outputs": [
        {
          "output_type": "stream",
          "name": "stdout",
          "text": [
            "[0]\n",
            "[2]\n",
            "Classe réelle de la dernière instance : 2\n",
            "Prédiction pour la dernière instance : [2]\n",
            "[0 0 0 0 0 0 0 0 0 0 0 0 0 0 0 0 0 0 0 0 0 0 0 0 0 0 0 0 0 0 0 0 0 0 0 0 0\n",
            " 0 0 0 0 0 0 0 0 0 0 0 0 0 1 1 1 1 1 1 1 1 1 1 1 1 1 1 1 1 1 1 1 1 1 1 1 1\n",
            " 1 1 1 1 1 1 1 1 1 2 1 1 1 1 1 1 1 1 1 1 1 1 1 1 1 1 2 2 2 2 2 2 2 2 2 2 2\n",
            " 2 2 2 2 2 2 2 2 2 2 2 2 2 2 1 2 2 2 1 2 1 2 1 2 2 2 2 2 2 2 2 2 2 2 2 2 2\n",
            " 2 2]\n"
          ]
        }
      ]
    },
    {
      "cell_type": "markdown",
      "source": [
        "**- Initialisation du modèle :**\n",
        "\n",
        "Un modèle Naïve Bayes Multinomial est créé avec l'option fit_prior=True.\n",
        "- **Entraînement du modèle :**\n",
        "\n",
        "Le modèle est entraîné sur toutes les données sauf la dernière instance de irisData avec nb.fit.\n",
        "- **Prédictions :**\n",
        "\n",
        "  - La classe de la 32ème instance (irisData.data[31]) est prédite avec nb.predict et stockée dans p31.\n",
        "  - La classe de la dernière instance (irisData.data[-1]) est prédite avec nb.predict et stockée dans plast.\n",
        "  - Les classes de toutes les instances (irisData.data[:]) sont prédites avec nb.predict et stockées dans p.\n",
        "- **Résultats attendus :**\n",
        "  - p31 contient la prédiction de la classe pour la 32ème instance.\n",
        "  - plast contient la prédiction de la classe pour la dernière instance.\n",
        "  - p contient les prédictions de classe pour toutes les instances."
      ],
      "metadata": {
        "id": "rZ-ZXFZh1ZkP"
      }
    },
    {
      "cell_type": "code",
      "source": [
        "nb.fit(irisData.data[:99], irisData.target[:99])\n",
        "nb.predict(irisData.data[100:149])"
      ],
      "metadata": {
        "colab": {
          "base_uri": "https://localhost:8080/"
        },
        "id": "W0xMJQVt2LHM",
        "outputId": "62b54a94-e271-465d-e6e2-c8dbf7dd6002"
      },
      "execution_count": null,
      "outputs": [
        {
          "output_type": "execute_result",
          "data": {
            "text/plain": [
              "array([1, 1, 1, 1, 1, 1, 1, 1, 1, 1, 1, 1, 1, 1, 1, 1, 1, 1, 1, 1, 1, 1,\n",
              "       1, 1, 1, 1, 1, 1, 1, 1, 1, 1, 1, 1, 1, 1, 1, 1, 1, 1, 1, 1, 1, 1,\n",
              "       1, 1, 1, 1, 1])"
            ]
          },
          "metadata": {},
          "execution_count": 10
        }
      ]
    },
    {
      "cell_type": "code",
      "source": [
        "# Afficher les 99 premières instances avec leur target\n",
        "for data, target in zip(irisData.data[:99], irisData.target[:99]):\n",
        "    print(f\"Data: {data}, Target: {target}\")\n"
      ],
      "metadata": {
        "colab": {
          "base_uri": "https://localhost:8080/"
        },
        "id": "xSFfIKtSCaUQ",
        "outputId": "e9bfa8b3-98c1-4890-9958-cf6429746dae"
      },
      "execution_count": null,
      "outputs": [
        {
          "output_type": "stream",
          "name": "stdout",
          "text": [
            "Data: [5.1 3.5 1.4 0.2], Target: 0\n",
            "Data: [4.9 3.  1.4 0.2], Target: 0\n",
            "Data: [4.7 3.2 1.3 0.2], Target: 0\n",
            "Data: [4.6 3.1 1.5 0.2], Target: 0\n",
            "Data: [5.  3.6 1.4 0.2], Target: 0\n",
            "Data: [5.4 3.9 1.7 0.4], Target: 0\n",
            "Data: [4.6 3.4 1.4 0.3], Target: 0\n",
            "Data: [5.  3.4 1.5 0.2], Target: 0\n",
            "Data: [4.4 2.9 1.4 0.2], Target: 0\n",
            "Data: [4.9 3.1 1.5 0.1], Target: 0\n",
            "Data: [5.4 3.7 1.5 0.2], Target: 0\n",
            "Data: [4.8 3.4 1.6 0.2], Target: 0\n",
            "Data: [4.8 3.  1.4 0.1], Target: 0\n",
            "Data: [4.3 3.  1.1 0.1], Target: 0\n",
            "Data: [5.8 4.  1.2 0.2], Target: 0\n",
            "Data: [5.7 4.4 1.5 0.4], Target: 0\n",
            "Data: [5.4 3.9 1.3 0.4], Target: 0\n",
            "Data: [5.1 3.5 1.4 0.3], Target: 0\n",
            "Data: [5.7 3.8 1.7 0.3], Target: 0\n",
            "Data: [5.1 3.8 1.5 0.3], Target: 0\n",
            "Data: [5.4 3.4 1.7 0.2], Target: 0\n",
            "Data: [5.1 3.7 1.5 0.4], Target: 0\n",
            "Data: [4.6 3.6 1.  0.2], Target: 0\n",
            "Data: [5.1 3.3 1.7 0.5], Target: 0\n",
            "Data: [4.8 3.4 1.9 0.2], Target: 0\n",
            "Data: [5.  3.  1.6 0.2], Target: 0\n",
            "Data: [5.  3.4 1.6 0.4], Target: 0\n",
            "Data: [5.2 3.5 1.5 0.2], Target: 0\n",
            "Data: [5.2 3.4 1.4 0.2], Target: 0\n",
            "Data: [4.7 3.2 1.6 0.2], Target: 0\n",
            "Data: [4.8 3.1 1.6 0.2], Target: 0\n",
            "Data: [5.4 3.4 1.5 0.4], Target: 0\n",
            "Data: [5.2 4.1 1.5 0.1], Target: 0\n",
            "Data: [5.5 4.2 1.4 0.2], Target: 0\n",
            "Data: [4.9 3.1 1.5 0.2], Target: 0\n",
            "Data: [5.  3.2 1.2 0.2], Target: 0\n",
            "Data: [5.5 3.5 1.3 0.2], Target: 0\n",
            "Data: [4.9 3.6 1.4 0.1], Target: 0\n",
            "Data: [4.4 3.  1.3 0.2], Target: 0\n",
            "Data: [5.1 3.4 1.5 0.2], Target: 0\n",
            "Data: [5.  3.5 1.3 0.3], Target: 0\n",
            "Data: [4.5 2.3 1.3 0.3], Target: 0\n",
            "Data: [4.4 3.2 1.3 0.2], Target: 0\n",
            "Data: [5.  3.5 1.6 0.6], Target: 0\n",
            "Data: [5.1 3.8 1.9 0.4], Target: 0\n",
            "Data: [4.8 3.  1.4 0.3], Target: 0\n",
            "Data: [5.1 3.8 1.6 0.2], Target: 0\n",
            "Data: [4.6 3.2 1.4 0.2], Target: 0\n",
            "Data: [5.3 3.7 1.5 0.2], Target: 0\n",
            "Data: [5.  3.3 1.4 0.2], Target: 0\n",
            "Data: [7.  3.2 4.7 1.4], Target: 1\n",
            "Data: [6.4 3.2 4.5 1.5], Target: 1\n",
            "Data: [6.9 3.1 4.9 1.5], Target: 1\n",
            "Data: [5.5 2.3 4.  1.3], Target: 1\n",
            "Data: [6.5 2.8 4.6 1.5], Target: 1\n",
            "Data: [5.7 2.8 4.5 1.3], Target: 1\n",
            "Data: [6.3 3.3 4.7 1.6], Target: 1\n",
            "Data: [4.9 2.4 3.3 1. ], Target: 1\n",
            "Data: [6.6 2.9 4.6 1.3], Target: 1\n",
            "Data: [5.2 2.7 3.9 1.4], Target: 1\n",
            "Data: [5.  2.  3.5 1. ], Target: 1\n",
            "Data: [5.9 3.  4.2 1.5], Target: 1\n",
            "Data: [6.  2.2 4.  1. ], Target: 1\n",
            "Data: [6.1 2.9 4.7 1.4], Target: 1\n",
            "Data: [5.6 2.9 3.6 1.3], Target: 1\n",
            "Data: [6.7 3.1 4.4 1.4], Target: 1\n",
            "Data: [5.6 3.  4.5 1.5], Target: 1\n",
            "Data: [5.8 2.7 4.1 1. ], Target: 1\n",
            "Data: [6.2 2.2 4.5 1.5], Target: 1\n",
            "Data: [5.6 2.5 3.9 1.1], Target: 1\n",
            "Data: [5.9 3.2 4.8 1.8], Target: 1\n",
            "Data: [6.1 2.8 4.  1.3], Target: 1\n",
            "Data: [6.3 2.5 4.9 1.5], Target: 1\n",
            "Data: [6.1 2.8 4.7 1.2], Target: 1\n",
            "Data: [6.4 2.9 4.3 1.3], Target: 1\n",
            "Data: [6.6 3.  4.4 1.4], Target: 1\n",
            "Data: [6.8 2.8 4.8 1.4], Target: 1\n",
            "Data: [6.7 3.  5.  1.7], Target: 1\n",
            "Data: [6.  2.9 4.5 1.5], Target: 1\n",
            "Data: [5.7 2.6 3.5 1. ], Target: 1\n",
            "Data: [5.5 2.4 3.8 1.1], Target: 1\n",
            "Data: [5.5 2.4 3.7 1. ], Target: 1\n",
            "Data: [5.8 2.7 3.9 1.2], Target: 1\n",
            "Data: [6.  2.7 5.1 1.6], Target: 1\n",
            "Data: [5.4 3.  4.5 1.5], Target: 1\n",
            "Data: [6.  3.4 4.5 1.6], Target: 1\n",
            "Data: [6.7 3.1 4.7 1.5], Target: 1\n",
            "Data: [6.3 2.3 4.4 1.3], Target: 1\n",
            "Data: [5.6 3.  4.1 1.3], Target: 1\n",
            "Data: [5.5 2.5 4.  1.3], Target: 1\n",
            "Data: [5.5 2.6 4.4 1.2], Target: 1\n",
            "Data: [6.1 3.  4.6 1.4], Target: 1\n",
            "Data: [5.8 2.6 4.  1.2], Target: 1\n",
            "Data: [5.  2.3 3.3 1. ], Target: 1\n",
            "Data: [5.6 2.7 4.2 1.3], Target: 1\n",
            "Data: [5.7 3.  4.2 1.2], Target: 1\n",
            "Data: [5.7 2.9 4.2 1.3], Target: 1\n",
            "Data: [6.2 2.9 4.3 1.3], Target: 1\n",
            "Data: [5.1 2.5 3.  1.1], Target: 1\n"
          ]
        }
      ]
    },
    {
      "cell_type": "markdown",
      "source": [
        "**- Interprétation des résultats :**\n",
        "  - Le modèle est entraîné sur un ensemble d'apprentissage composé des 99 premières instances du jeu de données Iris.\n",
        "  - Ensuite, le modèle tente de prédire les classes pour les instances de l'indice 100 à 149 à l'aide de la fonction nb.predict.\n",
        "  - Les résultats indiquent que, selon le modèle entraîné, toutes les instances de l'indice 100 à 149 ont été prédites comme appartenant à la classe 1 (Versicolor).\n",
        "\n",
        "**- Proposition pour équilibrer l'ensemble d'apprentissage et l'ensemble de test :**\n",
        "  - Problème de déséquilibre des classes : Il est possible que le modèle ait été entraîné sur un ensemble d'apprentissage qui était déséquilibré, ce qui peut affecter les performances du modèle sur des classes minoritaires.\n",
        "  - Taille de l'ensemble d'apprentissage : Un ensemble d'apprentissage de 99 instances peut être trop petit, surtout si le jeu de données total est relativement petit."
      ],
      "metadata": {
        "id": "ZhnefrJ72MzX"
      }
    },
    {
      "cell_type": "markdown",
      "source": [
        "## Evaluation des performances d'un classiffieur"
      ],
      "metadata": {
        "id": "6km4XUG23zu8"
      }
    },
    {
      "cell_type": "code",
      "source": [
        "from sklearn.naive_bayes import GaussianNB\n",
        "\n",
        "\n",
        "# Create a Gaussian Naive Bayes classifier\n",
        "clf = GaussianNB()\n",
        "\n",
        "# Fit the model to the entire training dataset\n",
        "clf.fit(irisData.data, irisData.target)\n",
        "\n",
        "# Make predictions on the entire training dataset\n",
        "predictions = clf.predict(irisData.data)\n",
        "\n",
        "# Calculate the apparent error\n",
        "#C'est une estimation de la performance du modèle sur les données qu'il a apprises.\n",
        "error_apparente = 1 - clf.score(irisData.data, irisData.target)\n",
        "\n",
        "# Count the number of incorrect instances\n",
        "incorrect_instances = len(irisData.data) * error_apparente\n",
        "\n",
        "print(\"Erreur d'apprentissage (apparente):\", error_apparente)\n",
        "print(\"Nombre d'instances erronées:\", int(incorrect_instances))"
      ],
      "metadata": {
        "colab": {
          "base_uri": "https://localhost:8080/"
        },
        "id": "MU2R8ME234EY",
        "outputId": "28065586-bc9e-43a2-cfd4-dbb73007a13f"
      },
      "execution_count": null,
      "outputs": [
        {
          "output_type": "stream",
          "name": "stdout",
          "text": [
            "Erreur d'apprentissage (apparente): 0.040000000000000036\n",
            "Nombre d'instances erronées: 6\n"
          ]
        }
      ]
    },
    {
      "cell_type": "code",
      "source": [
        "from sklearn.model_selection import train_test_split\n",
        "\n",
        "\n",
        "# Split the training dataset into two parts (e.g., 70% for training and 30% for testing)\n",
        "X_train, X_test, y_train, y_test = train_test_split(irisData.data, irisData.target, test_size=0.3, random_state=42)\n",
        "\n",
        "# Evaluate the model on the test data\n",
        "error_estimee = 1 - clf.score(X_test, y_test)\n",
        "\n",
        "# Calculate the number of incorrect instances in the test set\n",
        "incorrect_instances = len(y_test) * error_estimee\n",
        "\n",
        "print(\"Erreur estimée (séparation en 2 parties):\", error_estimee)\n",
        "print(\"Nombre d'instances erronées dans le jeu de test:\", int(incorrect_instances))\n"
      ],
      "metadata": {
        "colab": {
          "base_uri": "https://localhost:8080/"
        },
        "id": "J_QnZ2pg3-Yj",
        "outputId": "339cdb8d-f772-4d09-ae30-1a3ee23ff2dd"
      },
      "execution_count": null,
      "outputs": [
        {
          "output_type": "stream",
          "name": "stdout",
          "text": [
            "Erreur estimée (séparation en 2 parties): 0.0\n",
            "Nombre d'instances erronées dans le jeu de test: 0\n"
          ]
        }
      ]
    },
    {
      "cell_type": "code",
      "source": [
        "from sklearn.model_selection import cross_val_score\n",
        "\n",
        "#Model Training and Evaluation:\n",
        "\n",
        "#The model is trained k times, each time using k-1 folds as the training set and the remaining fold as the validation set.\n",
        "#For each training-validation iteration, the model is trained on a subset of the data and evaluated on a different subset.\n",
        "\n",
        "# Perform cross-validation with 10 folds\n",
        "scores = cross_val_score(clf, irisData.data, irisData.target, cv=10)\n",
        "\n",
        "# Calculate the estimated error using the mean of scores\n",
        "mean_error = 1 - scores.mean()\n",
        "\n",
        "# Calculate the number of incorrect instances in the entire dataset\n",
        "total_instances = len(irisData.target)\n",
        "incorrect_instances = int(total_instances * mean_error)\n",
        "\n",
        "print(\"Erreur estimée (validation croisée):\", mean_error)\n",
        "print(\"Nombre d'instances erronées dans l'ensemble de données:\", incorrect_instances)\n"
      ],
      "metadata": {
        "colab": {
          "base_uri": "https://localhost:8080/"
        },
        "id": "-WuzXn1r4GKk",
        "outputId": "9499d81f-ea04-4745-f99a-ea1bb6a8eb14"
      },
      "execution_count": null,
      "outputs": [
        {
          "output_type": "stream",
          "name": "stdout",
          "text": [
            "Erreur estimée (validation croisée): 0.046666666666666634\n",
            "Nombre d'instances erronées dans l'ensemble de données: 6\n"
          ]
        }
      ]
    },
    {
      "cell_type": "markdown",
      "source": [
        "**- Conclusion générale :**\n",
        "\n",
        "  - Globalement, les performances du modèle semblent cohérentes entre l'ensemble d'apprentissage, l'ensemble de test et la validation croisée. Cependant, la petite taille du jeu de données peut entraîner des variations dans les performances d'un échantillon à l'autre.\n",
        "\n",
        "  - Une erreur d'apprentissage de 4% est relativement faible, ce qui suggère que le modèle a bien appris sur l'ensemble d'apprentissage. L'estimation de l'erreur réelle sur l'ensemble de test (2.22%) est également encourageante, indiquant une bonne généralisation.\n",
        "\n",
        "  - La validation croisée offre une estimation plus robuste de l'erreur réelle, bien que légèrement plus élevée que l'erreur apparente. Cela est attendu et peut être dû à la variabilité des partitions dans la validation croisée.\n",
        "\n",
        "\n",
        "\n",
        "\n",
        "\n",
        "\n"
      ],
      "metadata": {
        "id": "nyBoBc8544Ca"
      }
    },
    {
      "cell_type": "markdown",
      "source": [
        "### Estimation de l'erreur réelle par division de l'échantillon d'apprentissage\n"
      ],
      "metadata": {
        "id": "0BnP14jo5yVr"
      }
    },
    {
      "cell_type": "code",
      "source": [
        "import numpy as np\n",
        "from sklearn.utils import shuffle\n",
        "\n",
        "def split(S):\n",
        "\n",
        "    dataset_length = len(S.data)\n",
        "    random_indices = np.random.choice(dataset_length, size=100, replace=False)\n",
        "\n",
        "    data_training = S.data[random_indices]\n",
        "    target_training = S.target[random_indices]\n",
        "\n",
        "    data_test = np.delete(S.data, random_indices, axis=0)\n",
        "    target_test = np.delete(S.target, random_indices)\n",
        "\n",
        "    return data_training, target_training, data_test, target_test\n"
      ],
      "metadata": {
        "id": "38bBAHQ551hv"
      },
      "execution_count": null,
      "outputs": []
    },
    {
      "cell_type": "markdown",
      "source": [
        "**- Fonction de Division (split) :**\n",
        "\n",
        "  - La fonction split divise le dataset en deux parties : un échantillon d'apprentissage (de taille 100) et un échantillon de test (le reste des données).\n",
        "  - L'utilisation de np.random.choice avec replace=False assure une sélection aléatoire sans remplacement pour l'échantillon d'apprentissage.\n"
      ],
      "metadata": {
        "id": "njtdu19-7NGF"
      }
    },
    {
      "cell_type": "code",
      "source": [
        "from sklearn.metrics import accuracy_score\n",
        "\n",
        "def test(S, nb):\n",
        "    dataS1, targetS1, dataS2, targetS2 = split(S)\n",
        "\n",
        "    nb.fit(dataS1, targetS1)\n",
        "\n",
        "    predictions = nb.predict(dataS2)\n",
        "\n",
        "    accuracy = accuracy_score(targetS2, predictions)\n",
        "\n",
        "    error_proportion = 1 - accuracy\n",
        "\n",
        "\n",
        "\n",
        "    return error_proportion\n",
        "\n",
        "\n",
        "irisData = datasets.load_iris()\n",
        "test(irisData,nb)\n"
      ],
      "metadata": {
        "colab": {
          "base_uri": "https://localhost:8080/"
        },
        "id": "dDr81xda6Rb3",
        "outputId": "4d480ffd-5b9b-41ba-c14c-fb10bd1f4e4f"
      },
      "execution_count": null,
      "outputs": [
        {
          "output_type": "execute_result",
          "data": {
            "text/plain": [
              "0.4"
            ]
          },
          "metadata": {},
          "execution_count": 16
        }
      ]
    },
    {
      "cell_type": "markdown",
      "source": [
        "**- Fonction de Test (test) :**\n",
        "\n",
        "  - La fonction test prend en entrée le dataset et un classifieur, divise le dataset, ajuste le modèle sur l'échantillon d'apprentissage, puis teste le modèle sur l'échantillon de test.\n",
        "  - La métrique d'évaluation utilisée est l'accuracy, calculée à l'aide de accuracy_score. L'erreur proportionnelle est ensuite calculée comme 1 - accuracy."
      ],
      "metadata": {
        "id": "4LDYCDhe7YXc"
      }
    },
    {
      "cell_type": "code",
      "source": [
        "t = 10\n",
        "mean_errors = []\n",
        "\n",
        "for i in range(t):\n",
        "    error = test(irisData, nb)\n",
        "    mean_errors.append(error)\n",
        "\n",
        "average_error = sum(mean_errors) / len(mean_errors)\n",
        "\n",
        "print(\"Erreur moyenne pour t =\", t, \":\", average_error)"
      ],
      "metadata": {
        "colab": {
          "base_uri": "https://localhost:8080/"
        },
        "id": "z1sovuYS6a_G",
        "outputId": "b7dc7acd-5c3b-4e18-be6d-d0a72e2d577b"
      },
      "execution_count": null,
      "outputs": [
        {
          "output_type": "stream",
          "name": "stdout",
          "text": [
            "Erreur moyenne pour t = 10 : 0.18000000000000002\n"
          ]
        }
      ]
    },
    {
      "cell_type": "markdown",
      "source": [
        "**- Boucle de Test Répétée (t = 10) :**\n",
        "\n",
        "  - La boucle effectue la division et le test du modèle 10 fois, calculant l'erreur proportionnelle à chaque itération.\n",
        "  - La moyenne des erreurs est calculée pour obtenir une estimation plus stable de la performance du modèle sur des échantillons différents."
      ],
      "metadata": {
        "id": "uuc97nW27fH5"
      }
    },
    {
      "cell_type": "markdown",
      "source": [
        "L'erreur estimée avec un échantillon de test qui ne prend que le 10ème de l'échantillon initial ne sera probablement pas la même qu'avec une proportion d'1/3. Cela est dû à la variabilité inhérente aux échantillons aléatoires. Une taille d'échantillon plus petite (1/10) peut introduire plus de variabilité, tandis qu'une taille d'échantillon plus grande (1/3) peut offrir une estimation plus stable.\n",
        "\n"
      ],
      "metadata": {
        "id": "QmvxjkeT7lKd"
      }
    },
    {
      "cell_type": "markdown",
      "source": [
        "## Split avec train_test_split."
      ],
      "metadata": {
        "id": "1gqEDxBs77kr"
      }
    },
    {
      "cell_type": "code",
      "source": [
        "from sklearn.model_selection import train_test_split\n",
        "\n",
        "\n",
        "irisData = datasets.load_iris()\n",
        "X_train, X_test, y_train, y_test = train_test_split(irisData.data, irisData.target, test_size=0.25, random_state=42)\n",
        "\n"
      ],
      "metadata": {
        "id": "Zyc4Tja27_DE"
      },
      "execution_count": null,
      "outputs": []
    },
    {
      "cell_type": "markdown",
      "source": [
        "- La fonction train_test_split de scikit-learn est utilisée pour diviser le dataset en ensembles d'apprentissage et de test selon des proportions spécifiées. Cela permet de créer des jeux de données d'entraînement et de test de manière contrôlée."
      ],
      "metadata": {
        "id": "Y-EGalGp8c_t"
      }
    },
    {
      "cell_type": "code",
      "source": [
        "from sklearn.model_selection import train_test_split\n",
        "from sklearn.naive_bayes import GaussianNB\n",
        "from sklearn.metrics import accuracy_score\n",
        "from sklearn import naive_bayes\n",
        "\n",
        "irisData = datasets.load_iris()\n",
        "\n",
        "nb = naive_bayes.MultinomialNB(fit_prior=True)\n",
        "\n",
        "\n",
        "test_sizes = [0.2, 0.25, 0.33, 0.5]\n",
        "\n",
        "for test_size in test_sizes:\n",
        "\n",
        "    X_train, X_test, y_train, y_test = train_test_split(irisData.data, irisData.target, test_size=test_size, random_state=42)\n",
        "\n",
        "    nb.fit(X_train, y_train)\n",
        "\n",
        "    predictions = nb.predict(X_test)\n",
        "\n",
        "    real_error = 1 - accuracy_score(y_test, predictions)\n",
        "\n",
        "    print(f\"Test size: {test_size}, Erreur réelle: {real_error}\")\n"
      ],
      "metadata": {
        "colab": {
          "base_uri": "https://localhost:8080/"
        },
        "id": "hCxx0Jjr8Fmj",
        "outputId": "66519c84-4ec4-4b73-c32a-b343206d321c"
      },
      "execution_count": null,
      "outputs": [
        {
          "output_type": "stream",
          "name": "stdout",
          "text": [
            "Test size: 0.2, Erreur réelle: 0.09999999999999998\n",
            "Test size: 0.25, Erreur réelle: 0.02631578947368418\n",
            "Test size: 0.33, Erreur réelle: 0.040000000000000036\n",
            "Test size: 0.5, Erreur réelle: 0.026666666666666616\n"
          ]
        }
      ]
    },
    {
      "cell_type": "markdown",
      "source": [
        "- La taille de l'ensemble de test influence clairement l'estimation de l'erreur réelle.\n",
        "- Dans ce cas, une taille d'ensemble de test de 25% semble offrir un bon équilibre entre une estimation précise et l'utilisation maximale des données pour l'apprentissage.\n",
        "- Il est important de choisir une taille d'ensemble de test appropriée en fonction de la disponibilité des données et des besoins spécifiques du problème."
      ],
      "metadata": {
        "id": "_26qJqKB88dz"
      }
    },
    {
      "cell_type": "code",
      "source": [
        "from sklearn.model_selection import cross_val_score\n",
        "from sklearn import naive_bayes\n",
        "from sklearn.datasets import load_iris\n",
        "\n",
        "irisData = load_iris()\n",
        "nb = naive_bayes.MultinomialNB(fit_prior=True)\n",
        "\n",
        "error_10folds = 1-cross_val_score(nb, irisData.data, irisData.target, cv=10, scoring='accuracy').mean()\n",
        "print(f'Erreur par validation croisée (10 folds) : {error_10folds}')\n",
        "\n",
        "error_2folds = 1-cross_val_score(nb, irisData.data, irisData.target, cv=2, scoring='accuracy').mean()\n",
        "print(f'Erreur par validation croisée (2 folds) : {error_2folds}')\n",
        "\n",
        "error_3folds = 1-cross_val_score(nb, irisData.data, irisData.target, cv=3, scoring='accuracy').mean()\n",
        "print(f'Erreur par validation croisée (3 folds) : {error_3folds}')\n",
        "\n",
        "error_5folds = 1-cross_val_score(nb, irisData.data, irisData.target, cv=5, scoring='accuracy').mean()\n",
        "print(f'Erreur par validation croisée (5 folds) : {error_5folds}')\n",
        "\n",
        "error_8folds = 1-cross_val_score(nb, irisData.data, irisData.target, cv=8, scoring='accuracy').mean()\n",
        "print(f'Erreur par validation croisée (8 folds) : {error_8folds}')\n"
      ],
      "metadata": {
        "colab": {
          "base_uri": "https://localhost:8080/"
        },
        "id": "PkxcmbSN9CP1",
        "outputId": "5dbc72ee-71d3-4967-d6b1-4fb2ce600bdc"
      },
      "execution_count": null,
      "outputs": [
        {
          "output_type": "stream",
          "name": "stdout",
          "text": [
            "Erreur par validation croisée (10 folds) : 0.046666666666666634\n",
            "Erreur par validation croisée (2 folds) : 0.046666666666666634\n",
            "Erreur par validation croisée (3 folds) : 0.053333333333333344\n",
            "Erreur par validation croisée (5 folds) : 0.046666666666666634\n",
            "Erreur par validation croisée (8 folds) : 0.05263157894736836\n"
          ]
        }
      ]
    },
    {
      "cell_type": "markdown",
      "source": [
        "**- Stabilité des Performances :**\n",
        "\n",
        "  - Les erreurs estimées par validation croisée sont relativement stables pour différents nombres de folds (2, 3, 5, 8, 10).\n",
        "  - Cela suggère que les performances du modèle sont cohérentes et ne varient pas significativement avec le nombre de partitions utilisées.\n",
        "**- Bonne Performance Globale :**\n",
        "\n",
        "  - Les erreurs estimées par validation croisée sont toutes assez basses, indiquant une bonne performance globale du classifieur Naïve Bayes Multinomial sur le jeu de données Iris.\n",
        "**- Robustesse du Modèle :**\n",
        "\n",
        "  - La validation croisée permet d'obtenir une estimation plus robuste de l'erreur réelle en considérant plusieurs partitions de l'ensemble de données.\n",
        "  - La variabilité des résultats est réduite grâce à la moyenne sur plusieurs itérations.\n",
        "**- Choix du Nombre de Folds :**\n",
        "\n",
        "  - En général, des performances similaires sont observées avec 2, 3, 5, 8 et 10 folds.\n",
        "  - Le choix du nombre optimal de folds peut dépendre de divers facteurs, notamment la taille de l'ensemble de données et la disponibilité des ressources de calcul."
      ],
      "metadata": {
        "id": "guVZ6PYp-UEs"
      }
    },
    {
      "cell_type": "markdown",
      "source": [
        "| Méthode                   | Erreur Apparente | Erreur par Validation Croisée | Erreur sur Test Customisé | Erreur Moyenne sur 10 Tests | Erreur Réelle par Test Split | Erreur par Validation Croisée (Diff. Folds) |\n",
        "|---------------------------|------------------|-------------------------------|---------------------------|----------------------------|-----------------------------|-----------------------------------------------|\n",
        "| Naïve Bayes Multinomial   | 0.04             | 0.0467                        | 0.44                      | 0.206                      | Variable                    | Stable                                      |\n"
      ],
      "metadata": {
        "id": "Z_Vw_S70E7YR"
      }
    },
    {
      "cell_type": "markdown",
      "source": [
        "- L'erreur apparente (calculée sur les données d'entraînement) est relativement basse (0.04), ce qui indique une bonne adaptation du modèle aux données d'entraînement.\n",
        "- L'erreur estimée par validation croisée (moyenne sur 5 folds) est également faible (0.0467), suggérant une bonne généralisation du modèle.\n",
        "- L'erreur sur le test unitaire après un split personnalisé est relativement élevée (0.44), ce qui peut indiquer une sensibilité du modèle à certaines partitions des données.\n",
        "- L'erreur moyenne sur 10 tests avec un split personnalisé est de 0.206, montrant une certaine variabilité dans les performances du modèle.\n",
        "- Les erreurs réelles sur le jeu de test pour différentes tailles de test avec train_test_split varient, mais restent relativement basses, montrant une stabilité globale du modèle.\n",
        "- Les erreurs par validation croisée restent relativement constantes pour différents nombres de folds, montrant une certaine robustesse de la méthode."
      ],
      "metadata": {
        "id": "I3TRzXLBFGRc"
      }
    },
    {
      "cell_type": "markdown",
      "source": [
        "**- Remarques :**\n",
        "\n",
        "  - L'erreur apparente peut sous-estimer l'erreur réelle, tandis que l'estimation par validation croisée donne une meilleure indication de la performance réelle.\n",
        "  - Les variations dans les erreurs pour différentes tailles de test et nombres de folds soulignent l'importance de la robustesse des modèles et de la validation croisée pour obtenir des estimations fiables de la performance."
      ],
      "metadata": {
        "id": "_uEHhGXCFwMn"
      }
    },
    {
      "cell_type": "markdown",
      "source": [
        "## TP 3 : klearn.tree.DecisionTreeClassifier"
      ],
      "metadata": {
        "id": "f3Ol5SgdGzXH"
      }
    },
    {
      "cell_type": "code",
      "source": [
        "from sklearn.tree import DecisionTreeClassifier\n",
        "from sklearn import datasets\n",
        "\n",
        "# Charger le jeu de données Iris\n",
        "irisData = datasets.load_iris()\n",
        "\n",
        "# Initialiser le classifieur Decision Tree\n",
        "dt_classifier = DecisionTreeClassifier()\n",
        "\n",
        "# Ajuster le modèle aux données (en excluant le dernier échantillon)\n",
        "dt_classifier.fit(irisData.data[:-1], irisData.target[:-1])\n",
        "\n",
        "# Faire des prédictions pour un échantillon spécifique (par exemple, l'échantillon 31)\n",
        "p31 = dt_classifier.predict([irisData.data[31]])\n",
        "print(p31)\n",
        "\n",
        "# Faire des prédictions pour le dernier échantillon\n",
        "plast = dt_classifier.predict([irisData.data[-1]])\n",
        "print(plast)\n",
        "\n",
        "# Faire des prédictions pour tous les échantillons\n",
        "p = dt_classifier.predict(irisData.data)\n",
        "print(p)\n"
      ],
      "metadata": {
        "colab": {
          "base_uri": "https://localhost:8080/"
        },
        "id": "x9gWMoKYHWPq",
        "outputId": "befae5c7-0403-4939-e414-8efdb94fff71"
      },
      "execution_count": null,
      "outputs": [
        {
          "output_type": "stream",
          "name": "stdout",
          "text": [
            "[0]\n",
            "[2]\n",
            "[0 0 0 0 0 0 0 0 0 0 0 0 0 0 0 0 0 0 0 0 0 0 0 0 0 0 0 0 0 0 0 0 0 0 0 0 0\n",
            " 0 0 0 0 0 0 0 0 0 0 0 0 0 1 1 1 1 1 1 1 1 1 1 1 1 1 1 1 1 1 1 1 1 1 1 1 1\n",
            " 1 1 1 1 1 1 1 1 1 1 1 1 1 1 1 1 1 1 1 1 1 1 1 1 1 1 2 2 2 2 2 2 2 2 2 2 2\n",
            " 2 2 2 2 2 2 2 2 2 2 2 2 2 2 2 2 2 2 2 2 2 2 2 2 2 2 2 2 2 2 2 2 2 2 2 2 2\n",
            " 2 2]\n"
          ]
        }
      ]
    },
    {
      "cell_type": "code",
      "source": [
        "from sklearn.tree import DecisionTreeClassifier\n",
        "from sklearn import datasets\n",
        "\n",
        "# Charger le jeu de données Iris\n",
        "irisData = datasets.load_iris()\n",
        "\n",
        "# Initialiser le classifieur Decision Tree\n",
        "dt_classifier = DecisionTreeClassifier()\n",
        "\n",
        "# Ajuster le modèle aux 99 premières données\n",
        "dt_classifier.fit(irisData.data[:99], irisData.target[:99])\n",
        "\n",
        "# Faire des prédictions pour les données de l'index 100 à 149\n",
        "predictions = dt_classifier.predict(irisData.data[100:149])\n",
        "print(predictions)\n"
      ],
      "metadata": {
        "colab": {
          "base_uri": "https://localhost:8080/"
        },
        "id": "KuQSQ17PHw7q",
        "outputId": "eb03f3b3-70a2-42e8-d68d-089063056cfd"
      },
      "execution_count": null,
      "outputs": [
        {
          "output_type": "stream",
          "name": "stdout",
          "text": [
            "[1 1 1 1 1 1 1 1 1 1 1 1 1 1 1 1 1 1 1 1 1 1 1 1 1 1 1 1 1 1 1 1 1 1 1 1 1\n",
            " 1 1 1 1 1 1 1 1 1 1 1 1]\n"
          ]
        }
      ]
    },
    {
      "cell_type": "code",
      "source": [
        "from sklearn.tree import DecisionTreeClassifier\n",
        "from sklearn import datasets\n",
        "\n",
        "# Charger le jeu de données Iris\n",
        "irisData = datasets.load_iris()\n",
        "\n",
        "# Initialiser le classifieur Decision Tree\n",
        "dt_classifier = DecisionTreeClassifier()\n",
        "\n",
        "# Ajuster le modèle à l'ensemble de données d'entraînement\n",
        "dt_classifier.fit(irisData.data, irisData.target)\n",
        "\n",
        "# Faire des prédictions sur l'ensemble de données d'entraînement\n",
        "predictions = dt_classifier.predict(irisData.data)\n",
        "\n",
        "# Calculer l'erreur apparente\n",
        "error_apparente = 1 - dt_classifier.score(irisData.data, irisData.target)\n",
        "\n",
        "# Compter le nombre d'instances incorrectes\n",
        "incorrect_instances = len(irisData.data) * error_apparente\n",
        "\n",
        "print(\"Erreur d'apprentissage (apparente):\", error_apparente)\n",
        "print(\"Nombre d'instances erronées:\", int(incorrect_instances))\n"
      ],
      "metadata": {
        "colab": {
          "base_uri": "https://localhost:8080/"
        },
        "id": "udddBXvZILMe",
        "outputId": "ea8cbdc4-80b5-46be-e7e7-dcfd0be032d4"
      },
      "execution_count": null,
      "outputs": [
        {
          "output_type": "stream",
          "name": "stdout",
          "text": [
            "Erreur d'apprentissage (apparente): 0.0\n",
            "Nombre d'instances erronées: 0\n"
          ]
        }
      ]
    },
    {
      "cell_type": "code",
      "source": [
        "from sklearn.model_selection import train_test_split\n",
        "from sklearn.tree import DecisionTreeClassifier\n",
        "from sklearn import datasets\n",
        "\n",
        "# Charger le jeu de données Iris\n",
        "irisData = datasets.load_iris()\n",
        "\n",
        "# Diviser l'ensemble de données d'entraînement en deux parties (par exemple, 70% pour l'entraînement et 30% pour les tests)\n",
        "X_train, X_test, y_train, y_test = train_test_split(irisData.data, irisData.target, test_size=0.3, random_state=42)\n",
        "\n",
        "# Initialiser le classifieur Decision Tree\n",
        "dt_classifier = DecisionTreeClassifier()\n",
        "\n",
        "# Entraîner le modèle sur les données d'entraînement\n",
        "dt_classifier.fit(X_train, y_train)\n",
        "\n",
        "# Évaluer le modèle sur les données de test\n",
        "error_estimee = 1 - dt_classifier.score(X_test, y_test)\n",
        "\n",
        "# Calculer le nombre d'instances incorrectes dans l'ensemble de test\n",
        "incorrect_instances = len(y_test) * error_estimee\n",
        "\n",
        "print(\"Erreur estimée (séparation en 2 parties):\", error_estimee)\n",
        "print(\"Nombre d'instances erronées dans le jeu de test:\", int(incorrect_instances))\n"
      ],
      "metadata": {
        "colab": {
          "base_uri": "https://localhost:8080/"
        },
        "id": "d9XFQHN4ITGF",
        "outputId": "f877e53c-b865-433e-8b4e-50d84f9bcfa1"
      },
      "execution_count": null,
      "outputs": [
        {
          "output_type": "stream",
          "name": "stdout",
          "text": [
            "Erreur estimée (séparation en 2 parties): 0.0\n",
            "Nombre d'instances erronées dans le jeu de test: 0\n"
          ]
        }
      ]
    },
    {
      "cell_type": "code",
      "source": [
        "from sklearn.model_selection import cross_val_score\n",
        "from sklearn.tree import DecisionTreeClassifier\n",
        "from sklearn import datasets\n",
        "\n",
        "# Charger le jeu de données Iris\n",
        "irisData = datasets.load_iris()\n",
        "\n",
        "# Initialiser le classifieur Decision Tree\n",
        "dt_classifier = DecisionTreeClassifier()\n",
        "\n",
        "# Effectuer une validation croisée avec 10 folds\n",
        "scores = cross_val_score(dt_classifier, irisData.data, irisData.target, cv=10)\n",
        "\n",
        "# Calculer l'erreur estimée en utilisant la moyenne des scores\n",
        "mean_error = 1 - scores.mean()\n",
        "\n",
        "# Calculer le nombre d'instances incorrectes dans l'ensemble de données entier\n",
        "total_instances = len(irisData.target)\n",
        "incorrect_instances = int(total_instances * mean_error)\n",
        "\n",
        "print(\"Erreur estimée (validation croisée):\", mean_error)\n",
        "print(\"Nombre d'instances erronées dans l'ensemble de données:\", incorrect_instances)\n"
      ],
      "metadata": {
        "colab": {
          "base_uri": "https://localhost:8080/"
        },
        "id": "DTqGfNx7IdzT",
        "outputId": "a49b346f-e970-4b7b-f4be-0fcb06576507"
      },
      "execution_count": null,
      "outputs": [
        {
          "output_type": "stream",
          "name": "stdout",
          "text": [
            "Erreur estimée (validation croisée): 0.046666666666666634\n",
            "Nombre d'instances erronées dans l'ensemble de données: 6\n"
          ]
        }
      ]
    },
    {
      "cell_type": "code",
      "source": [
        "def test(S, clf):\n",
        "    dataS1, targetS1, dataS2, targetS2 = split(S)\n",
        "\n",
        "    clf.fit(dataS1, targetS1)\n",
        "\n",
        "    predictions = clf.predict(dataS2)\n",
        "\n",
        "    accuracy = accuracy_score(targetS2, predictions)\n",
        "\n",
        "    error_proportion = 1 - accuracy\n",
        "\n",
        "    return error_proportion\n",
        "\n",
        "irisData = datasets.load_iris()\n",
        "dt_classifier = DecisionTreeClassifier()  # Instantiate the Decision Tree classifier\n",
        "test_error = test(irisData, dt_classifier)\n",
        "print(\"Erreur de test avec Decision Tree Classifier:\", test_error)"
      ],
      "metadata": {
        "colab": {
          "base_uri": "https://localhost:8080/"
        },
        "id": "xjuaAvyTJjfR",
        "outputId": "f284fa40-c121-4531-d9a7-33869b4f6b55"
      },
      "execution_count": null,
      "outputs": [
        {
          "output_type": "stream",
          "name": "stdout",
          "text": [
            "Erreur de test avec Decision Tree Classifier: 0.040000000000000036\n"
          ]
        }
      ]
    },
    {
      "cell_type": "code",
      "source": [
        "t = 10\n",
        "mean_errors = []\n",
        "\n",
        "for i in range(t):\n",
        "    dt_classifier = DecisionTreeClassifier()\n",
        "    error = test(irisData, dt_classifier)\n",
        "    mean_errors.append(error)\n",
        "\n",
        "average_error = sum(mean_errors) / len(mean_errors)\n",
        "\n",
        "print(\"Erreur moyenne pour t =\", t, \":\", average_error)\n"
      ],
      "metadata": {
        "colab": {
          "base_uri": "https://localhost:8080/"
        },
        "id": "dher3dshJyEm",
        "outputId": "8a41608f-5730-4d93-fd13-2b11d4a222d8"
      },
      "execution_count": null,
      "outputs": [
        {
          "output_type": "stream",
          "name": "stdout",
          "text": [
            "Erreur moyenne pour t = 10 : 0.04200000000000002\n"
          ]
        }
      ]
    },
    {
      "cell_type": "code",
      "source": [
        "from sklearn.model_selection import train_test_split\n",
        "from sklearn.tree import DecisionTreeClassifier\n",
        "from sklearn.metrics import accuracy_score\n",
        "from sklearn import datasets\n",
        "\n",
        "irisData = datasets.load_iris()\n",
        "\n",
        "dt_classifier = DecisionTreeClassifier()\n",
        "\n",
        "test_sizes = [0.2, 0.25, 0.33, 0.5]\n",
        "\n",
        "for test_size in test_sizes:\n",
        "    X_train, X_test, y_train, y_test = train_test_split(irisData.data, irisData.target, test_size=test_size, random_state=42)\n",
        "\n",
        "    dt_classifier.fit(X_train, y_train)\n",
        "\n",
        "    predictions = dt_classifier.predict(X_test)\n",
        "\n",
        "    real_error = 1 - accuracy_score(y_test, predictions)\n",
        "\n",
        "    print(f\"Test size: {test_size}, Erreur réelle: {real_error}\")\n"
      ],
      "metadata": {
        "colab": {
          "base_uri": "https://localhost:8080/"
        },
        "id": "VT2qTB1xJ8F_",
        "outputId": "d9f93a99-7382-4a6c-dee2-0af5e33a6de0"
      },
      "execution_count": null,
      "outputs": [
        {
          "output_type": "stream",
          "name": "stdout",
          "text": [
            "Test size: 0.2, Erreur réelle: 0.0\n",
            "Test size: 0.25, Erreur réelle: 0.0\n",
            "Test size: 0.33, Erreur réelle: 0.0\n",
            "Test size: 0.5, Erreur réelle: 0.09333333333333338\n"
          ]
        }
      ]
    },
    {
      "cell_type": "code",
      "source": [
        "from sklearn.model_selection import cross_val_score\n",
        "from sklearn.tree import DecisionTreeClassifier\n",
        "from sklearn.datasets import load_iris\n",
        "\n",
        "irisData = load_iris()\n",
        "dt_classifier = DecisionTreeClassifier()\n",
        "\n",
        "error_10folds = 1-cross_val_score(dt_classifier, irisData.data, irisData.target, cv=10, scoring='accuracy').mean()\n",
        "print(f'Erreur par validation croisée (10 folds) : {error_10folds}')\n",
        "\n",
        "error_2folds = 1-cross_val_score(dt_classifier, irisData.data, irisData.target, cv=2, scoring='accuracy').mean()\n",
        "print(f'Erreur par validation croisée (2 folds) : {error_2folds}')\n",
        "\n",
        "error_3folds = 1-cross_val_score(dt_classifier, irisData.data, irisData.target, cv=3, scoring='accuracy').mean()\n",
        "print(f'Erreur par validation croisée (3 folds) : {error_3folds}')\n",
        "\n",
        "error_5folds = 1-cross_val_score(dt_classifier, irisData.data, irisData.target, cv=5, scoring='accuracy').mean()\n",
        "print(f'Erreur par validation croisée (5 folds) : {error_5folds}')\n",
        "\n",
        "error_8folds = 1-cross_val_score(dt_classifier, irisData.data, irisData.target, cv=8, scoring='accuracy').mean()\n",
        "print(f'Erreur par validation croisée (8 folds) : {error_8folds}')\n"
      ],
      "metadata": {
        "colab": {
          "base_uri": "https://localhost:8080/"
        },
        "id": "oEx7AnAOKFb4",
        "outputId": "a8277b88-8e68-4882-f662-cded38b5bbad"
      },
      "execution_count": null,
      "outputs": [
        {
          "output_type": "stream",
          "name": "stdout",
          "text": [
            "Erreur par validation croisée (10 folds) : 0.040000000000000036\n",
            "Erreur par validation croisée (2 folds) : 0.046666666666666634\n",
            "Erreur par validation croisée (3 folds) : 0.040000000000000036\n",
            "Erreur par validation croisée (5 folds) : 0.033333333333333215\n",
            "Erreur par validation croisée (8 folds) : 0.04641812865497075\n"
          ]
        }
      ]
    },
    {
      "cell_type": "markdown",
      "source": [
        "## Tp 3 : Random forest"
      ],
      "metadata": {
        "id": "QOGZJtwlKpLt"
      }
    },
    {
      "cell_type": "code",
      "source": [
        "from sklearn.ensemble import RandomForestClassifier\n",
        "from sklearn import datasets\n",
        "\n",
        "# Charger le jeu de données Iris\n",
        "irisData = datasets.load_iris()\n",
        "\n",
        "# Initialiser le classifieur Random Forest\n",
        "rf_classifier = RandomForestClassifier()\n",
        "\n",
        "# Ajuster le modèle aux données (en excluant le dernier échantillon)\n",
        "rf_classifier.fit(irisData.data[:-1], irisData.target[:-1])\n",
        "\n",
        "# Faire des prédictions pour un échantillon spécifique (par exemple, l'échantillon 31)\n",
        "p31 = rf_classifier.predict([irisData.data[31]])\n",
        "print(p31)\n",
        "\n",
        "# Faire des prédictions pour le dernier échantillon\n",
        "plast = rf_classifier.predict([irisData.data[-1]])\n",
        "print(plast)\n",
        "\n",
        "# Faire des prédictions pour tous les échantillons\n",
        "p = rf_classifier.predict(irisData.data)\n",
        "print(p)\n"
      ],
      "metadata": {
        "colab": {
          "base_uri": "https://localhost:8080/"
        },
        "id": "aQlg-ccZKueL",
        "outputId": "d0b83206-b5a1-4c42-e11a-05d6c20b6110"
      },
      "execution_count": null,
      "outputs": [
        {
          "output_type": "stream",
          "name": "stdout",
          "text": [
            "[0]\n",
            "[2]\n",
            "[0 0 0 0 0 0 0 0 0 0 0 0 0 0 0 0 0 0 0 0 0 0 0 0 0 0 0 0 0 0 0 0 0 0 0 0 0\n",
            " 0 0 0 0 0 0 0 0 0 0 0 0 0 1 1 1 1 1 1 1 1 1 1 1 1 1 1 1 1 1 1 1 1 1 1 1 1\n",
            " 1 1 1 1 1 1 1 1 1 1 1 1 1 1 1 1 1 1 1 1 1 1 1 1 1 1 2 2 2 2 2 2 2 2 2 2 2\n",
            " 2 2 2 2 2 2 2 2 2 2 2 2 2 2 2 2 2 2 2 2 2 2 2 2 2 2 2 2 2 2 2 2 2 2 2 2 2\n",
            " 2 2]\n"
          ]
        }
      ]
    },
    {
      "cell_type": "code",
      "source": [
        "from sklearn.ensemble import RandomForestClassifier\n",
        "from sklearn import datasets\n",
        "\n",
        "# Charger le jeu de données Iris\n",
        "irisData = datasets.load_iris()\n",
        "\n",
        "# Initialiser le classifieur Random Forest\n",
        "rf_classifier = RandomForestClassifier()\n",
        "\n",
        "# Ajuster le modèle aux 99 premières données\n",
        "rf_classifier.fit(irisData.data[:99], irisData.target[:99])\n",
        "\n",
        "# Faire des prédictions pour les données de l'index 100 à 149\n",
        "predictions = rf_classifier.predict(irisData.data[100:149])\n",
        "print(predictions)\n"
      ],
      "metadata": {
        "colab": {
          "base_uri": "https://localhost:8080/"
        },
        "id": "wEGVxM9eLULG",
        "outputId": "873f9461-4c7c-4e97-abe8-a0ae158d2d94"
      },
      "execution_count": null,
      "outputs": [
        {
          "output_type": "stream",
          "name": "stdout",
          "text": [
            "[1 1 1 1 1 1 1 1 1 1 1 1 1 1 1 1 1 1 1 1 1 1 1 1 1 1 1 1 1 1 1 1 1 1 1 1 1\n",
            " 1 1 1 1 1 1 1 1 1 1 1 1]\n"
          ]
        }
      ]
    },
    {
      "cell_type": "code",
      "source": [
        "from sklearn.ensemble import RandomForestClassifier\n",
        "from sklearn import datasets\n",
        "\n",
        "# Charger le jeu de données Iris\n",
        "irisData = datasets.load_iris()\n",
        "\n",
        "# Initialiser le classifieur Random Forest\n",
        "rf_classifier = RandomForestClassifier()\n",
        "\n",
        "# Ajuster le modèle à l'ensemble de données d'entraînement\n",
        "rf_classifier.fit(irisData.data, irisData.target)\n",
        "\n",
        "# Faire des prédictions sur l'ensemble de données d'entraînement\n",
        "predictions = rf_classifier.predict(irisData.data)\n",
        "\n",
        "# Calculer l'erreur apparente\n",
        "error_apparente = 1 - rf_classifier.score(irisData.data, irisData.target)\n",
        "\n",
        "# Compter le nombre d'instances incorrectes\n",
        "incorrect_instances = len(irisData.data) * error_apparente\n",
        "\n",
        "print(\"Erreur d'apprentissage (apparente):\", error_apparente)\n",
        "print(\"Nombre d'instances erronées:\", int(incorrect_instances))\n"
      ],
      "metadata": {
        "colab": {
          "base_uri": "https://localhost:8080/"
        },
        "id": "lWiBiB8fLa5g",
        "outputId": "1ff026a2-b1b0-4121-eaad-4b1c06ddd3a8"
      },
      "execution_count": null,
      "outputs": [
        {
          "output_type": "stream",
          "name": "stdout",
          "text": [
            "Erreur d'apprentissage (apparente): 0.0\n",
            "Nombre d'instances erronées: 0\n"
          ]
        }
      ]
    },
    {
      "cell_type": "code",
      "source": [
        "from sklearn.model_selection import train_test_split\n",
        "from sklearn.ensemble import RandomForestClassifier  # Import RandomForestClassifier\n",
        "from sklearn import datasets\n",
        "\n",
        "# Charger le jeu de données Iris\n",
        "irisData = datasets.load_iris()\n",
        "\n",
        "# Diviser l'ensemble de données d'entraînement en deux parties (par exemple, 70% pour l'entraînement et 30% pour les tests)\n",
        "X_train, X_test, y_train, y_test = train_test_split(irisData.data, irisData.target, test_size=0.3, random_state=42)\n",
        "\n",
        "# Initialiser le classifieur Random Forest\n",
        "rf_classifier = RandomForestClassifier()  # Change to RandomForestClassifier\n",
        "\n",
        "# Entraîner le modèle sur les données d'entraînement\n",
        "rf_classifier.fit(X_train, y_train)\n",
        "\n",
        "# Évaluer le modèle sur les données de test\n",
        "error_estimee = 1 - rf_classifier.score(X_test, y_test)\n",
        "\n",
        "# Calculer le nombre d'instances incorrectes dans l'ensemble de test\n",
        "incorrect_instances = len(y_test) * error_estimee\n",
        "\n",
        "print(\"Erreur estimée (séparation en 2 parties):\", error_estimee)\n",
        "print(\"Nombre d'instances erronées dans le jeu de test:\", int(incorrect_instances))\n"
      ],
      "metadata": {
        "colab": {
          "base_uri": "https://localhost:8080/"
        },
        "id": "wnvS3hQPLnb2",
        "outputId": "506e5b1e-6556-42d9-ff79-f57ee804f6a6"
      },
      "execution_count": null,
      "outputs": [
        {
          "output_type": "stream",
          "name": "stdout",
          "text": [
            "Erreur estimée (séparation en 2 parties): 0.0\n",
            "Nombre d'instances erronées dans le jeu de test: 0\n"
          ]
        }
      ]
    },
    {
      "cell_type": "code",
      "source": [
        "from sklearn.model_selection import cross_val_score\n",
        "from sklearn.ensemble import RandomForestClassifier  # Import RandomForestClassifier\n",
        "from sklearn import datasets\n",
        "\n",
        "# Charger le jeu de données Iris\n",
        "irisData = datasets.load_iris()\n",
        "\n",
        "# Initialiser le classifieur Random Forest\n",
        "rf_classifier = RandomForestClassifier()  # Change to RandomForestClassifier\n",
        "\n",
        "# Effectuer une validation croisée avec 10 folds\n",
        "scores = cross_val_score(rf_classifier, irisData.data, irisData.target, cv=10)\n",
        "\n",
        "# Calculer l'erreur estimée en utilisant la moyenne des scores\n",
        "mean_error = 1 - scores.mean()\n",
        "\n",
        "# Calculer le nombre d'instances incorrectes dans l'ensemble de données entier\n",
        "total_instances = len(irisData.target)\n",
        "incorrect_instances = int(total_instances * mean_error)\n",
        "\n",
        "print(\"Erreur estimée (validation croisée):\", mean_error)\n",
        "print(\"Nombre d'instances erronées dans l'ensemble de données:\", incorrect_instances)\n"
      ],
      "metadata": {
        "colab": {
          "base_uri": "https://localhost:8080/"
        },
        "id": "NffCqqpsLzRd",
        "outputId": "82a2b227-aa24-4f3f-a95b-63d59c24f6f6"
      },
      "execution_count": null,
      "outputs": [
        {
          "output_type": "stream",
          "name": "stdout",
          "text": [
            "Erreur estimée (validation croisée): 0.03333333333333344\n",
            "Nombre d'instances erronées dans l'ensemble de données: 5\n"
          ]
        }
      ]
    },
    {
      "cell_type": "code",
      "source": [
        "def test(S, clf):\n",
        "    dataS1, targetS1, dataS2, targetS2 = split(S)\n",
        "\n",
        "    clf.fit(dataS1, targetS1)\n",
        "\n",
        "    predictions = clf.predict(dataS2)\n",
        "\n",
        "    accuracy = accuracy_score(targetS2, predictions)\n",
        "\n",
        "    error_proportion = 1 - accuracy\n",
        "\n",
        "    return error_proportion\n",
        "\n",
        "irisData = datasets.load_iris()\n",
        "rf_classifier = RandomForestClassifier()  # Instantiate the Random Forest classifier\n",
        "test_error = test(irisData, rf_classifier)\n",
        "print(\"Erreur de test avec Random Forest Classifier:\", test_error)\n"
      ],
      "metadata": {
        "colab": {
          "base_uri": "https://localhost:8080/"
        },
        "id": "227rNqeaL6WY",
        "outputId": "05daff5b-ac75-4994-93b6-80eeac087597"
      },
      "execution_count": null,
      "outputs": [
        {
          "output_type": "stream",
          "name": "stdout",
          "text": [
            "Erreur de test avec Random Forest Classifier: 0.020000000000000018\n"
          ]
        }
      ]
    },
    {
      "cell_type": "code",
      "source": [
        "t = 10\n",
        "mean_errors = []\n",
        "\n",
        "for i in range(t):\n",
        "    rf_classifier = RandomForestClassifier()\n",
        "    error = test(irisData, rf_classifier)\n",
        "    mean_errors.append(error)\n",
        "\n",
        "average_error = sum(mean_errors) / len(mean_errors)\n",
        "\n",
        "print(\"Erreur moyenne pour t =\", t, \":\", average_error)\n"
      ],
      "metadata": {
        "colab": {
          "base_uri": "https://localhost:8080/"
        },
        "id": "2DidrdNSMCaH",
        "outputId": "971a0564-3729-4e7c-dece-46efa1d045a9"
      },
      "execution_count": null,
      "outputs": [
        {
          "output_type": "stream",
          "name": "stdout",
          "text": [
            "Erreur moyenne pour t = 10 : 0.052000000000000025\n"
          ]
        }
      ]
    },
    {
      "cell_type": "code",
      "source": [
        "from sklearn.model_selection import train_test_split\n",
        "from sklearn.ensemble import RandomForestClassifier\n",
        "from sklearn.metrics import accuracy_score\n",
        "from sklearn import datasets\n",
        "\n",
        "irisData = datasets.load_iris()\n",
        "\n",
        "rf_classifier = RandomForestClassifier()  # Instantiate the RandomForestClassifier\n",
        "\n",
        "test_sizes = [0.2, 0.25, 0.33, 0.5]\n",
        "\n",
        "for test_size in test_sizes:\n",
        "    X_train, X_test, y_train, y_test = train_test_split(irisData.data, irisData.target, test_size=test_size, random_state=42)\n",
        "\n",
        "    rf_classifier.fit(X_train, y_train)\n",
        "\n",
        "    predictions = rf_classifier.predict(X_test)\n",
        "\n",
        "    real_error = 1 - accuracy_score(y_test, predictions)\n",
        "\n",
        "    print(f\"Test size: {test_size}, Erreur réelle: {real_error}\")\n"
      ],
      "metadata": {
        "colab": {
          "base_uri": "https://localhost:8080/"
        },
        "id": "CjOHhH_MMJVd",
        "outputId": "501941bf-523d-4e4c-bce7-1820bcdfc7cf"
      },
      "execution_count": null,
      "outputs": [
        {
          "output_type": "stream",
          "name": "stdout",
          "text": [
            "Test size: 0.2, Erreur réelle: 0.0\n",
            "Test size: 0.25, Erreur réelle: 0.0\n",
            "Test size: 0.33, Erreur réelle: 0.020000000000000018\n",
            "Test size: 0.5, Erreur réelle: 0.013333333333333308\n"
          ]
        }
      ]
    },
    {
      "cell_type": "code",
      "source": [],
      "metadata": {
        "id": "u1mYzMPh7tW_"
      },
      "execution_count": null,
      "outputs": []
    },
    {
      "cell_type": "code",
      "source": [
        "from sklearn.model_selection import cross_val_score\n",
        "from sklearn.ensemble import RandomForestClassifier\n",
        "from sklearn.datasets import load_iris\n",
        "\n",
        "irisData = load_iris()\n",
        "rf_classifier = RandomForestClassifier()  # Instantiate the RandomForestClassifier\n",
        "\n",
        "error_10folds = 1-cross_val_score(rf_classifier, irisData.data, irisData.target, cv=10, scoring='accuracy').mean()\n",
        "print(f'Erreur par validation croisée (10 folds) : {error_10folds}')\n",
        "\n",
        "error_2folds = 1-cross_val_score(rf_classifier, irisData.data, irisData.target, cv=2, scoring='accuracy').mean()\n",
        "print(f'Erreur par validation croisée (2 folds) : {error_2folds}')\n",
        "\n",
        "error_3folds = 1-cross_val_score(rf_classifier, irisData.data, irisData.target, cv=3, scoring='accuracy').mean()\n",
        "print(f'Erreur par validation croisée (3 folds) : {error_3folds}')\n",
        "\n",
        "error_5folds = 1-cross_val_score(rf_classifier, irisData.data, irisData.target, cv=5, scoring='accuracy').mean()\n",
        "print(f'Erreur par validation croisée (5 folds) : {error_5folds}')\n",
        "\n",
        "error_8folds = 1-cross_val_score(rf_classifier, irisData.data, irisData.target, cv=8, scoring='accuracy').mean()\n",
        "print(f'Erreur par validation croisée (8 folds) : {error_8folds}')\n"
      ],
      "metadata": {
        "colab": {
          "base_uri": "https://localhost:8080/"
        },
        "id": "VRurPkAzMRDO",
        "outputId": "7d64c7e4-a6e9-4f9c-9c61-547821e34ba9"
      },
      "execution_count": null,
      "outputs": [
        {
          "output_type": "stream",
          "name": "stdout",
          "text": [
            "Erreur par validation croisée (10 folds) : 0.03333333333333344\n",
            "Erreur par validation croisée (2 folds) : 0.040000000000000036\n",
            "Erreur par validation croisée (3 folds) : 0.033333333333333326\n",
            "Erreur par validation croisée (5 folds) : 0.033333333333333215\n",
            "Erreur par validation croisée (8 folds) : 0.046052631578947345\n"
          ]
        }
      ]
    },
    {
      "cell_type": "markdown",
      "source": [
        "## TP3 : K plus proches voisins"
      ],
      "metadata": {
        "id": "LSctBTHlNDYo"
      }
    },
    {
      "cell_type": "code",
      "source": [
        "from sklearn.neighbors import KNeighborsClassifier\n",
        "from sklearn import datasets\n",
        "\n",
        "# Charger le jeu de données Iris\n",
        "irisData = datasets.load_iris()\n",
        "\n",
        "# Initialiser le classifieur KNN\n",
        "knn_classifier = KNeighborsClassifier()\n",
        "\n",
        "# Ajuster le modèle aux données (en excluant le dernier échantillon)\n",
        "knn_classifier.fit(irisData.data[:-1], irisData.target[:-1])\n",
        "\n",
        "# Faire des prédictions pour un échantillon spécifique (par exemple, l'échantillon 31)\n",
        "p31 = knn_classifier.predict([irisData.data[31]])\n",
        "print(p31)\n",
        "\n",
        "# Faire des prédictions pour le dernier échantillon\n",
        "plast = knn_classifier.predict([irisData.data[-1]])\n",
        "print(plast)\n",
        "\n",
        "# Faire des prédictions pour tous les échantillons\n",
        "p = knn_classifier.predict(irisData.data)\n",
        "print(p)\n"
      ],
      "metadata": {
        "colab": {
          "base_uri": "https://localhost:8080/"
        },
        "id": "uXj5sHImNGwO",
        "outputId": "88ffd45e-60fc-489f-b8d1-36f5ff070577"
      },
      "execution_count": null,
      "outputs": [
        {
          "output_type": "stream",
          "name": "stdout",
          "text": [
            "[0]\n",
            "[2]\n",
            "[0 0 0 0 0 0 0 0 0 0 0 0 0 0 0 0 0 0 0 0 0 0 0 0 0 0 0 0 0 0 0 0 0 0 0 0 0\n",
            " 0 0 0 0 0 0 0 0 0 0 0 0 0 1 1 1 1 1 1 1 1 1 1 1 1 1 1 1 1 1 1 1 1 1 1 2 1\n",
            " 1 1 1 1 1 1 1 1 1 2 1 1 1 1 1 1 1 1 1 1 1 1 1 1 1 1 2 2 2 2 2 2 1 2 2 2 2\n",
            " 2 2 2 2 2 2 2 2 1 2 2 2 2 2 2 2 2 2 2 2 2 2 2 2 2 2 2 2 2 2 2 2 2 2 2 2 2\n",
            " 2 2]\n"
          ]
        }
      ]
    },
    {
      "cell_type": "code",
      "source": [
        "from sklearn.neighbors import KNeighborsClassifier\n",
        "from sklearn import datasets\n",
        "\n",
        "# Charger le jeu de données Iris\n",
        "irisData = datasets.load_iris()\n",
        "\n",
        "# Initialiser le classifieur KNN\n",
        "knn_classifier = KNeighborsClassifier()\n",
        "\n",
        "# Ajuster le modèle aux 99 premières données\n",
        "knn_classifier.fit(irisData.data[:99], irisData.target[:99])\n",
        "\n",
        "# Faire des prédictions pour les données de l'index 100 à 149\n",
        "predictions = knn_classifier.predict(irisData.data[100:149])\n",
        "print(predictions)\n"
      ],
      "metadata": {
        "colab": {
          "base_uri": "https://localhost:8080/"
        },
        "id": "xguWDPiTNRz2",
        "outputId": "e72e245b-0740-4a5b-c42d-af1a4fc68884"
      },
      "execution_count": null,
      "outputs": [
        {
          "output_type": "stream",
          "name": "stdout",
          "text": [
            "[1 1 1 1 1 1 1 1 1 1 1 1 1 1 1 1 1 1 1 1 1 1 1 1 1 1 1 1 1 1 1 1 1 1 1 1 1\n",
            " 1 1 1 1 1 1 1 1 1 1 1 1]\n"
          ]
        }
      ]
    },
    {
      "cell_type": "code",
      "source": [
        "from sklearn.neighbors import KNeighborsClassifier\n",
        "from sklearn import datasets\n",
        "\n",
        "# Charger le jeu de données Iris\n",
        "irisData = datasets.load_iris()\n",
        "\n",
        "# Initialiser le classifieur KNN\n",
        "knn_classifier = KNeighborsClassifier()\n",
        "\n",
        "# Ajuster le modèle à l'ensemble de données d'entraînement\n",
        "knn_classifier.fit(irisData.data, irisData.target)\n",
        "\n",
        "# Faire des prédictions sur l'ensemble de données d'entraînement\n",
        "predictions = knn_classifier.predict(irisData.data)\n",
        "\n",
        "# Calculer l'erreur apparente\n",
        "error_apparente = 1 - knn_classifier.score(irisData.data, irisData.target)\n",
        "\n",
        "# Compter le nombre d'instances incorrectes\n",
        "incorrect_instances = len(irisData.data) * error_apparente\n",
        "\n",
        "print(\"Erreur d'apprentissage (apparente):\", error_apparente)\n",
        "print(\"Nombre d'instances erronées:\", int(incorrect_instances))\n"
      ],
      "metadata": {
        "colab": {
          "base_uri": "https://localhost:8080/"
        },
        "id": "AaGxTQWjNaJK",
        "outputId": "b6d721a0-d6a5-4281-db41-0b00cd15498f"
      },
      "execution_count": null,
      "outputs": [
        {
          "output_type": "stream",
          "name": "stdout",
          "text": [
            "Erreur d'apprentissage (apparente): 0.033333333333333326\n",
            "Nombre d'instances erronées: 4\n"
          ]
        }
      ]
    },
    {
      "cell_type": "code",
      "source": [
        "from sklearn.model_selection import train_test_split\n",
        "from sklearn.neighbors import KNeighborsClassifier  # Import KNeighborsClassifier\n",
        "from sklearn import datasets\n",
        "\n",
        "# Charger le jeu de données Iris\n",
        "irisData = datasets.load_iris()\n",
        "\n",
        "# Diviser l'ensemble de données d'entraînement en deux parties (par exemple, 70% pour l'entraînement et 30% pour les tests)\n",
        "X_train, X_test, y_train, y_test = train_test_split(irisData.data, irisData.target, test_size=0.3, random_state=42)\n",
        "\n",
        "# Initialiser le classifieur KNN\n",
        "knn_classifier = KNeighborsClassifier()  # Change to KNeighborsClassifier\n",
        "\n",
        "# Entraîner le modèle sur les données d'entraînement\n",
        "knn_classifier.fit(X_train, y_train)\n",
        "\n",
        "# Évaluer le modèle sur les données de test\n",
        "error_estimee = 1 - knn_classifier.score(X_test, y_test)\n",
        "\n",
        "# Calculer le nombre d'instances incorrectes dans l'ensemble de test\n",
        "incorrect_instances = len(y_test) * error_estimee\n",
        "\n",
        "print(\"Erreur estimée (séparation en 2 parties):\", error_estimee)\n",
        "print(\"Nombre d'instances erronées dans le jeu de test:\", int(incorrect_instances))\n"
      ],
      "metadata": {
        "colab": {
          "base_uri": "https://localhost:8080/"
        },
        "id": "3-Hca52RNhCM",
        "outputId": "9dbacf33-db2e-4a0a-95c8-e49c01def355"
      },
      "execution_count": null,
      "outputs": [
        {
          "output_type": "stream",
          "name": "stdout",
          "text": [
            "Erreur estimée (séparation en 2 parties): 0.0\n",
            "Nombre d'instances erronées dans le jeu de test: 0\n"
          ]
        }
      ]
    },
    {
      "cell_type": "code",
      "source": [
        "from sklearn.model_selection import cross_val_score\n",
        "from sklearn.neighbors import KNeighborsClassifier  # Import KNeighborsClassifier\n",
        "from sklearn import datasets\n",
        "\n",
        "# Charger le jeu de données Iris\n",
        "irisData = datasets.load_iris()\n",
        "\n",
        "# Initialiser le classifieur KNN\n",
        "knn_classifier = KNeighborsClassifier()  # Change to KNeighborsClassifier\n",
        "\n",
        "# Effectuer une validation croisée avec 10 folds\n",
        "scores = cross_val_score(knn_classifier, irisData.data, irisData.target, cv=10)\n",
        "\n",
        "# Calculer l'erreur estimée en utilisant la moyenne des scores\n",
        "mean_error = 1 - scores.mean()\n",
        "\n",
        "# Calculer le nombre d'instances incorrectes dans l'ensemble de données entier\n",
        "total_instances = len(irisData.target)\n",
        "incorrect_instances = int(total_instances * mean_error)\n",
        "\n",
        "print(\"Erreur estimée (validation croisée):\", mean_error)\n",
        "print(\"Nombre d'instances erronées dans l'ensemble de données:\", incorrect_instances)\n"
      ],
      "metadata": {
        "colab": {
          "base_uri": "https://localhost:8080/"
        },
        "id": "dUf5dE0fN9hj",
        "outputId": "56365baa-59e9-4ee1-9f2b-c10653d49c5f"
      },
      "execution_count": null,
      "outputs": [
        {
          "output_type": "stream",
          "name": "stdout",
          "text": [
            "Erreur estimée (validation croisée): 0.033333333333333215\n",
            "Nombre d'instances erronées dans l'ensemble de données: 4\n"
          ]
        }
      ]
    },
    {
      "cell_type": "code",
      "source": [
        "def test(S, clf):\n",
        "    dataS1, targetS1, dataS2, targetS2 = split(S)\n",
        "\n",
        "    clf.fit(dataS1, targetS1)\n",
        "\n",
        "    predictions = clf.predict(dataS2)\n",
        "\n",
        "    accuracy = accuracy_score(targetS2, predictions)\n",
        "\n",
        "    error_proportion = 1 - accuracy\n",
        "\n",
        "    return error_proportion\n",
        "\n",
        "irisData = datasets.load_iris()\n",
        "knn_classifier = KNeighborsClassifier()  # Instantiate the K-Nearest Neighbors classifier\n",
        "test_error = test(irisData, knn_classifier)\n",
        "print(\"Erreur de test avec K-Nearest Neighbors Classifier:\", test_error)"
      ],
      "metadata": {
        "colab": {
          "base_uri": "https://localhost:8080/"
        },
        "id": "sFYdaarFOWoC",
        "outputId": "f77f8aca-b863-4e89-d7c1-4a54f29f20b0"
      },
      "execution_count": null,
      "outputs": [
        {
          "output_type": "stream",
          "name": "stdout",
          "text": [
            "Erreur de test avec K-Nearest Neighbors Classifier: 0.06000000000000005\n"
          ]
        }
      ]
    },
    {
      "cell_type": "code",
      "source": [
        "t = 10\n",
        "mean_errors = []\n",
        "\n",
        "for i in range(t):\n",
        "    error = test(irisData, knn_classifier)\n",
        "    mean_errors.append(error)\n",
        "\n",
        "average_error = sum(mean_errors) / len(mean_errors)\n",
        "\n",
        "print(\"Erreur moyenne pour t =\", t, \":\", average_error)"
      ],
      "metadata": {
        "colab": {
          "base_uri": "https://localhost:8080/"
        },
        "id": "LDntbUTnOicL",
        "outputId": "4939c9c6-f17f-488b-9dc3-9d5bf8930a2e"
      },
      "execution_count": null,
      "outputs": [
        {
          "output_type": "stream",
          "name": "stdout",
          "text": [
            "Erreur moyenne pour t = 10 : 0.04600000000000003\n"
          ]
        }
      ]
    },
    {
      "cell_type": "code",
      "source": [
        "from sklearn.model_selection import train_test_split\n",
        "from sklearn.neighbors import KNeighborsClassifier  # Import KNeighborsClassifier\n",
        "from sklearn.metrics import accuracy_score\n",
        "from sklearn import datasets\n",
        "\n",
        "irisData = datasets.load_iris()\n",
        "\n",
        "knn_classifier = KNeighborsClassifier()  # Instantiate the KNeighborsClassifier\n",
        "\n",
        "test_sizes = [0.2, 0.25, 0.33, 0.5]\n",
        "\n",
        "for test_size in test_sizes:\n",
        "    X_train, X_test, y_train, y_test = train_test_split(irisData.data, irisData.target, test_size=test_size, random_state=42)\n",
        "\n",
        "    knn_classifier.fit(X_train, y_train)\n",
        "\n",
        "    predictions = knn_classifier.predict(X_test)\n",
        "\n",
        "    real_error = 1 - accuracy_score(y_test, predictions)\n",
        "\n",
        "    print(f\"Test size: {test_size}, Erreur réelle: {real_error}\")\n"
      ],
      "metadata": {
        "colab": {
          "base_uri": "https://localhost:8080/"
        },
        "id": "8F1Nt8RfO19C",
        "outputId": "eda78718-0eb7-42de-9b54-4a74da7f95cb"
      },
      "execution_count": null,
      "outputs": [
        {
          "output_type": "stream",
          "name": "stdout",
          "text": [
            "Test size: 0.2, Erreur réelle: 0.0\n",
            "Test size: 0.25, Erreur réelle: 0.0\n",
            "Test size: 0.33, Erreur réelle: 0.020000000000000018\n",
            "Test size: 0.5, Erreur réelle: 0.053333333333333344\n"
          ]
        }
      ]
    },
    {
      "cell_type": "code",
      "source": [
        "from sklearn.model_selection import cross_val_score\n",
        "from sklearn.neighbors import KNeighborsClassifier  # Import KNeighborsClassifier\n",
        "from sklearn.datasets import load_iris\n",
        "\n",
        "irisData = load_iris()\n",
        "\n",
        "# KNeighborsClassifier\n",
        "knn_classifier = KNeighborsClassifier()  # Instantiate the KNeighborsClassifier\n",
        "\n",
        "error_knn_10folds = 1-cross_val_score(knn_classifier, irisData.data, irisData.target, cv=10, scoring='accuracy').mean()\n",
        "print(f'Erreur par validation croisée avec KNeighbors (10 folds) : {error_knn_10folds}')\n",
        "\n",
        "error_knn_2folds = 1-cross_val_score(knn_classifier, irisData.data, irisData.target, cv=2, scoring='accuracy').mean()\n",
        "print(f'Erreur par validation croisée avec KNeighbors (2 folds) : {error_knn_2folds}')\n",
        "\n",
        "error_knn_3folds = 1-cross_val_score(knn_classifier, irisData.data, irisData.target, cv=3, scoring='accuracy').mean()\n",
        "print(f'Erreur par validation croisée avec KNeighbors (3 folds) : {error_knn_3folds}')\n",
        "\n",
        "error_knn_5folds = 1-cross_val_score(knn_classifier, irisData.data, irisData.target, cv=5, scoring='accuracy').mean()\n",
        "print(f'Erreur par validation croisée avec KNeighbors (5 folds) : {error_knn_5folds}')\n",
        "\n",
        "error_knn_8folds = 1-cross_val_score(knn_classifier, irisData.data, irisData.target, cv=8, scoring='accuracy').mean()\n",
        "print(f'Erreur par validation croisée avec KNeighbors (8 folds) : {error_knn_8folds}')\n"
      ],
      "metadata": {
        "colab": {
          "base_uri": "https://localhost:8080/"
        },
        "id": "a8Y7zH77PvI5",
        "outputId": "f4b10293-d34c-4eb7-e23b-f1234aa1b23a"
      },
      "execution_count": null,
      "outputs": [
        {
          "output_type": "stream",
          "name": "stdout",
          "text": [
            "Erreur par validation croisée avec KNeighbors (10 folds) : 0.033333333333333215\n",
            "Erreur par validation croisée avec KNeighbors (2 folds) : 0.06000000000000005\n",
            "Erreur par validation croisée avec KNeighbors (3 folds) : 0.020000000000000018\n",
            "Erreur par validation croisée avec KNeighbors (5 folds) : 0.026666666666666616\n",
            "Erreur par validation croisée avec KNeighbors (8 folds) : 0.03289473684210531\n"
          ]
        }
      ]
    }
  ]
}